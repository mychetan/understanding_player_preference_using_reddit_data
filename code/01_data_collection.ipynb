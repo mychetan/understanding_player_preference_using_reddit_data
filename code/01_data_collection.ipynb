{
 "cells": [
  {
   "cell_type": "markdown",
   "metadata": {},
   "source": [
    "## Data Collection\n",
    "For this project I utilized Pushshift API to gather reddit data from the Xbox One (Xbox) and PS4 (PS) subreddits. "
   ]
  },
  {
   "cell_type": "code",
   "execution_count": 1,
   "metadata": {},
   "outputs": [],
   "source": [
    "#Imported Libraries\n",
    "import time\n",
    "import requests\n",
    "import numpy as np\n",
    "import pandas as pd"
   ]
  },
  {
   "cell_type": "markdown",
   "metadata": {},
   "source": [
    "The code block below will gather data from a subreddit group and return it as a pandas dataframe. With the recent update on Pushshift API's rules, only 100 posts per request is allowed. Therefore, I nested a while loop in the function to continue getting posts until the desired amount is reached. To prevent duplicated posts, I set the oldest/minimum created_utc (float equivalent of time and date) as an argument for the `.get` method's `before` parameter. Lastly, I throttled each request for 3 seconds for politeness and compliance to rate-limiting policies. I also added print statements to track pull request status. "
   ]
  },
  {
   "cell_type": "code",
   "execution_count": 2,
   "metadata": {},
   "outputs": [],
   "source": [
    "def get_data(subreddit, size, before_time=1594969200):\n",
    "   \n",
    "    '''Pulls posts at the desired subreddit for the defined size and returns a dataframe'''\n",
    "\n",
    "    base_url = 'https://api.pushshift.io/reddit/search/submission'\n",
    "    posts = [] \n",
    "    posts_length = 0 \n",
    "    #before_time = 1594969200 Float conversion of July 17, 2020 at 12:00:00 A.M.\n",
    "    \n",
    "    #Loops until total number of post is scrapped from subreddit\n",
    "    while posts_length < size:\n",
    "        res = requests.get(base_url, params = {\"subreddit\": subreddit, \"size\": 100, \"before\": before_time}).json()\n",
    "        data = res['data']\n",
    "        df = pd.DataFrame(data)\n",
    "        \n",
    "        #Will record the minimum created_utc at each request as the beginning time for the next request\n",
    "        before_time = int(df[['created_utc']].sort_values('created_utc').values[0])\n",
    "        posts.append(df)\n",
    "        posts_length += len(data)\n",
    "    \n",
    "        #Prints out the status of the number of post pulled from subreddit\n",
    "        if (posts_length) % 1000 == 0:\n",
    "            print(f'Post {posts_length} of {size}')\n",
    "        \n",
    "        #Delay each loop by 3 seconds - for ethical purposes\n",
    "        time.sleep(3)\n",
    "    \n",
    "    return pd.concat(posts)"
   ]
  },
  {
   "cell_type": "markdown",
   "metadata": {},
   "source": [
    "### Xbox One Data\n",
    "\n",
    "I collected 10,000 posts from the r/xboxone subreddit and stored it into a CSV file called `xboxone.csv`. "
   ]
  },
  {
   "cell_type": "code",
   "execution_count": 8,
   "metadata": {},
   "outputs": [
    {
     "name": "stdout",
     "output_type": "stream",
     "text": [
      "Post 1000 of 10000\n",
      "Post 2000 of 10000\n",
      "Post 3000 of 10000\n",
      "Post 4000 of 10000\n",
      "Post 5000 of 10000\n",
      "Post 6000 of 10000\n",
      "Post 7000 of 10000\n",
      "Post 8000 of 10000\n",
      "Post 9000 of 10000\n",
      "Post 10000 of 10000\n"
     ]
    }
   ],
   "source": [
    "xbox_one = get_data('xboxone', 10_000)"
   ]
  },
  {
   "cell_type": "code",
   "execution_count": 9,
   "metadata": {},
   "outputs": [],
   "source": [
    "xbox_one.to_csv('../datasets/xbox_one.csv')"
   ]
  },
  {
   "cell_type": "markdown",
   "metadata": {},
   "source": [
    "### PS4 Data\n",
    "\n",
    "I collected 10,000 posts from the r/ps4 subreddit and stored it into a CSV file called `ps4.csv`. "
   ]
  },
  {
   "cell_type": "code",
   "execution_count": 6,
   "metadata": {},
   "outputs": [
    {
     "name": "stdout",
     "output_type": "stream",
     "text": [
      "Post 1000 of 10000\n",
      "Post 2000 of 10000\n",
      "Post 3000 of 10000\n",
      "Post 4000 of 10000\n",
      "Post 5000 of 10000\n",
      "Post 6000 of 10000\n",
      "Post 7000 of 10000\n",
      "Post 8000 of 10000\n",
      "Post 9000 of 10000\n",
      "Post 10000 of 10000\n"
     ]
    }
   ],
   "source": [
    "#Gathering data from PS4 subreddit \n",
    "ps_4 = get_data('PS4', 10000)"
   ]
  },
  {
   "cell_type": "code",
   "execution_count": 7,
   "metadata": {},
   "outputs": [],
   "source": [
    "ps_4.to_csv('../datasets/ps_4.csv')"
   ]
  }
 ],
 "metadata": {
  "kernelspec": {
   "display_name": "Python 3",
   "language": "python",
   "name": "python3"
  },
  "language_info": {
   "codemirror_mode": {
    "name": "ipython",
    "version": 3
   },
   "file_extension": ".py",
   "mimetype": "text/x-python",
   "name": "python",
   "nbconvert_exporter": "python",
   "pygments_lexer": "ipython3",
   "version": "3.7.7"
  }
 },
 "nbformat": 4,
 "nbformat_minor": 4
}
